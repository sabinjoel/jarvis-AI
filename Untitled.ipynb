{
 "cells": [
  {
   "cell_type": "code",
   "execution_count": 7,
   "metadata": {},
   "outputs": [
    {
     "name": "stdout",
     "output_type": "stream",
     "text": [
      "Listening...\n",
      "Recognizing....\n",
      "Say that again please....\n"
     ]
    }
   ],
   "source": [
    "import pyttsx3\n",
    "import datetime\n",
    "import speech_recognition as sr\n",
    "import pyaudio\n",
    "\n",
    "\n",
    "engine=pyttsx3.init('sapi5')\n",
    "voices=engine.getProperty('voices')\n",
    "\n",
    "engine.setProperty('voices',voices[0].id)\n",
    "\n",
    "\n",
    "\n",
    "def speak(audio):\n",
    "    engine.say(audio);\n",
    "    engine.runAndWait()\n",
    "def wishMe():\n",
    "    hour=int(datetime.datetime.now().hour)\n",
    "    if hour>=0 and hour<12:\n",
    "        speak(\"Good Morning!\")\n",
    "    elif hour>=12 and hour<18:\n",
    "        speak(\"Good Afternoon!\")\n",
    "    else:\n",
    "        speak(\"Good Evening!\")\n",
    "    speak(\"I am Jarvis, sir. How may I help you\")\n",
    "def takeCommand():\n",
    "    r=sr.Recognizer()\n",
    "    with sr.Microphone() as source:\n",
    "        print(\"Listening...\")\n",
    "        #r.pause_threshold=1\n",
    "        audio=r.listen(source)\n",
    "    try:\n",
    "        print(\"Recognizing....\")\n",
    "        query=r.recognize_google(audio,language='en-in')\n",
    "        print(f\"User said:{query}\\n\")\n",
    "    except Exception as e:\n",
    "        print(\"Say that again please....\")\n",
    "        return \"None\"\n",
    "    return query\n",
    "        \n",
    "    \n",
    "    \n",
    "    \n",
    "if __name__==\"__main__\":\n",
    "    wishMe()\n",
    "    takeCommand()\n"
   ]
  },
  {
   "cell_type": "code",
   "execution_count": null,
   "metadata": {},
   "outputs": [],
   "source": [
    "def takeCommand():\n",
    "    r=sr.Recognizer()\n",
    "    with sr.Microphone() as source:\n",
    "        print(\"Listening...\")\n",
    "        r.pause_threshold=1\n",
    "        audio=r.listen(source)\n",
    "    try:\n",
    "        print(\"Recognizing....\")\n",
    "        query=r.recognize_google(audio,language='en-in')\n",
    "        print(f\"User said:{query}\\n\")\n",
    "    except Exception as e:\n",
    "        print(\"Say that again please....\")\n",
    "        return \"None\"\n",
    "    return query"
   ]
  },
  {
   "cell_type": "code",
   "execution_count": null,
   "metadata": {},
   "outputs": [],
   "source": []
  }
 ],
 "metadata": {
  "kernelspec": {
   "display_name": "Python 3",
   "language": "python",
   "name": "python3"
  },
  "language_info": {
   "codemirror_mode": {
    "name": "ipython",
    "version": 3
   },
   "file_extension": ".py",
   "mimetype": "text/x-python",
   "name": "python",
   "nbconvert_exporter": "python",
   "pygments_lexer": "ipython3",
   "version": "3.8.5"
  }
 },
 "nbformat": 4,
 "nbformat_minor": 4
}
